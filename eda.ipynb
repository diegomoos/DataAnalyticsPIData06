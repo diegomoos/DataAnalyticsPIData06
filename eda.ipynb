{
 "cells": [
  {
   "cell_type": "code",
   "execution_count": 1,
   "metadata": {},
   "outputs": [],
   "source": [
    "import pandas as pd"
   ]
  },
  {
   "cell_type": "code",
   "execution_count": 3,
   "metadata": {},
   "outputs": [],
   "source": [
    "#Cargamos los Datasets\n",
    "coursera = pd.read_csv('./Moocs/Coursera_courses.csv')\n",
    "coursera_rw = pd.read_csv('./Moocs/Coursera_reviews.csv')\n",
    "edx = pd.read_csv('./Moocs/edx_courses.csv')\n",
    "udemy = pd.read_csv('./Moocs/udemy_courses.csv')\n"
   ]
  },
  {
   "cell_type": "code",
   "execution_count": 4,
   "metadata": {},
   "outputs": [],
   "source": [
    "#sin duplciados\n",
    "coursera.drop_duplicates(subset=['course_id'],inplace=True)\n",
    "edx.drop_duplicates(subset=['course_url'],inplace=True)\n",
    "udemy.drop_duplicates(subset=['course_id'],inplace=True)\n",
    "coursera_rw.drop_duplicates(subset=['reviews'],inplace=True)"
   ]
  }
 ],
 "metadata": {
  "kernelspec": {
   "display_name": "Python 3",
   "language": "python",
   "name": "python3"
  },
  "language_info": {
   "codemirror_mode": {
    "name": "ipython",
    "version": 3
   },
   "file_extension": ".py",
   "mimetype": "text/x-python",
   "name": "python",
   "nbconvert_exporter": "python",
   "pygments_lexer": "ipython3",
   "version": "3.10.7"
  },
  "orig_nbformat": 4,
  "vscode": {
   "interpreter": {
    "hash": "a19bb7df5c99bdd169184eed4a6a6549540042352de0fe2bb7844292ed2dce66"
   }
  }
 },
 "nbformat": 4,
 "nbformat_minor": 2
}
